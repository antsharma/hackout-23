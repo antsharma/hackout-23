{
 "cells": [
  {
   "cell_type": "code",
   "execution_count": null,
   "id": "c94e5706",
   "metadata": {},
   "outputs": [],
   "source": [
    "!pip install nltk\n",
    "!pip install spacy\n",
    "!pip install numpy \n",
    "!pip install pandas"
   ]
  },
  {
   "cell_type": "code",
   "execution_count": null,
   "id": "cc5b7cce",
   "metadata": {},
   "outputs": [],
   "source": [
    "import nltk \n",
    "from nltk.corpus import wordnet \n",
    "from nltk.stem.wordnet import WordNetLemmatizer\n",
    "import pandas as pd\n",
    "import numpy as np\n",
    "import spacy\n",
    "from nltk.tokenize import word_tokenize\n",
    "\n",
    "\n",
    "nlp = spacy.load(\"en_core_web_lg\")\n",
    "wnl = WordNetLemmatizer()"
   ]
  },
  {
   "cell_type": "code",
   "execution_count": null,
   "id": "e999fe94",
   "metadata": {},
   "outputs": [],
   "source": [
    "def are_similar_nltk_adjective(ans, test):\n",
    "    # ans and test are strings to be compared\n",
    "    similarity = nlp(ans).similarity(nlp(test))\n",
    "    \n",
    "    print(similarity)\n",
    "    \n",
    "    if(similarity<=0.9):\n",
    "        \n",
    "        return False\n",
    "    \n",
    "    else:\n",
    "        test = word_tokenize(test)\n",
    "        ans = word_tokenize(ans)\n",
    "        opposite_tokens = []\n",
    "        \n",
    "        for i in range(len(test)):\n",
    "            # convert superlative and comparative into normal adjective\n",
    "            test[i] = wnl.lemmatize(test[i],'a')\n",
    "            for syn in wordnet.synsets(test[i]):\n",
    "                for l in syn.lemmas():\n",
    "                    if l.antonyms():\n",
    "                        opposite_tokens.append(l.antonyms()[0].name())\n",
    "        \n",
    "        \n",
    "        correct_tokens = []\n",
    "        for i in range(len(ans)):\n",
    "            correct_tokens.append(wnl.lemmatize(ans[i],'a'))\n",
    "        \n",
    "        correct_tokens = set(correct_tokens)\n",
    "        for token in opposite_tokens:\n",
    "            if token in correct_tokens:\n",
    "                print(token)\n",
    "                return False\n",
    "        \n",
    "        return True"
   ]
  },
  {
   "cell_type": "code",
   "execution_count": null,
   "id": "5165c11e",
   "metadata": {},
   "outputs": [],
   "source": [
    "ans = \"memory paging is a memory management scheme by which a computer stores and retrieves data from secondary storage for use in main memory.\"\n",
    "test = \"Full form HIV is Aids\"\n",
    "\n",
    "if(are_similar_nltk_adjective(ans, test)):\n",
    "    print('Congratulations! You have answered it right.')\n",
    "else:\n",
    "    print('Sorry! Try again.')"
   ]
  }
 ],
 "metadata": {
  "kernelspec": {
   "display_name": "Python 3 (ipykernel)",
   "language": "python",
   "name": "python3"
  },
  "language_info": {
   "codemirror_mode": {
    "name": "ipython",
    "version": 3
   },
   "file_extension": ".py",
   "mimetype": "text/x-python",
   "name": "python",
   "nbconvert_exporter": "python",
   "pygments_lexer": "ipython3",
   "version": "3.10.9"
  }
 },
 "nbformat": 4,
 "nbformat_minor": 5
}
